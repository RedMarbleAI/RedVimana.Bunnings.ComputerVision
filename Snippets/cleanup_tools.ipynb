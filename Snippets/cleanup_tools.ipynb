{
 "cells": [
  {
   "cell_type": "markdown",
   "metadata": {},
   "source": [
    "Rotate and Remove NULL Frames"
   ]
  },
  {
   "cell_type": "code",
   "execution_count": 7,
   "metadata": {},
   "outputs": [
    {
     "ename": "KeyboardInterrupt",
     "evalue": "",
     "output_type": "error",
     "traceback": [
      "\u001b[0;31m---------------------------------------------------------------------------\u001b[0m",
      "\u001b[0;31mKeyboardInterrupt\u001b[0m                         Traceback (most recent call last)",
      "\u001b[0;32m<ipython-input-7-9d17c7a17810>\u001b[0m in \u001b[0;36m<module>\u001b[0;34m\u001b[0m\n\u001b[1;32m     25\u001b[0m         \u001b[0mframe\u001b[0m \u001b[0;34m=\u001b[0m \u001b[0mcv\u001b[0m\u001b[0;34m.\u001b[0m\u001b[0mrotate\u001b[0m\u001b[0;34m(\u001b[0m\u001b[0mframe\u001b[0m\u001b[0;34m,\u001b[0m \u001b[0mrotation_required\u001b[0m\u001b[0;34m)\u001b[0m\u001b[0;34m\u001b[0m\u001b[0m\n\u001b[1;32m     26\u001b[0m         \u001b[0;31m#cv.imshow(\"preview\", frame)\u001b[0m\u001b[0;34m\u001b[0m\u001b[0;34m\u001b[0m\u001b[0m\n\u001b[0;32m---> 27\u001b[0;31m         \u001b[0mvid_writer\u001b[0m\u001b[0;34m.\u001b[0m\u001b[0mwrite\u001b[0m\u001b[0;34m(\u001b[0m\u001b[0mframe\u001b[0m\u001b[0;34m.\u001b[0m\u001b[0mastype\u001b[0m\u001b[0;34m(\u001b[0m\u001b[0mnp\u001b[0m\u001b[0;34m.\u001b[0m\u001b[0muint8\u001b[0m\u001b[0;34m)\u001b[0m\u001b[0;34m)\u001b[0m\u001b[0;34m\u001b[0m\u001b[0m\n\u001b[0m\u001b[1;32m     28\u001b[0m \u001b[0;34m\u001b[0m\u001b[0m\n\u001b[1;32m     29\u001b[0m     \u001b[0mkey\u001b[0m \u001b[0;34m=\u001b[0m \u001b[0mcv\u001b[0m\u001b[0;34m.\u001b[0m\u001b[0mwaitKey\u001b[0m\u001b[0;34m(\u001b[0m\u001b[0;36m1\u001b[0m\u001b[0;34m)\u001b[0m\u001b[0;34m\u001b[0m\u001b[0m\n",
      "\u001b[0;31mKeyboardInterrupt\u001b[0m: "
     ]
    }
   ],
   "source": [
    "#snippet for correcting rotation and removing NONE frames\n",
    "#ONLY SUPPORTS ONE VID AT A TIME\n",
    "\n",
    "import cv2 as cv\n",
    "import numpy as np\n",
    "\n",
    "input_file = \"videos/BunVim3.mp4\"#, \"videos/BunPi2.mp4\", \"videos/BunVim3.mp4\"\n",
    "rotation_required = cv.ROTATE_90_CLOCKWISE#, cv2.ROTATE_90_COUNTERCLOCKWISE, cv2.ROTATE_90_CLOCKWISE\n",
    "output_file = \"videos/CorrectedBUN3.avi\"#, \"videos/CorrectedBUN2.avi\", \"videos/CorrectedBUN3.avi\"\n",
    "\n",
    "cap = cv.VideoCapture(input_file)\n",
    "\n",
    "#set params\n",
    "fps = cap.get(cv.CAP_PROP_FPS)\n",
    "#supports rotate 90 either direction!\n",
    "width = round(cap.get(cv.CAP_PROP_FRAME_HEIGHT))\n",
    "height = round(cap.get(cv.CAP_PROP_FRAME_WIDTH))\n",
    "\n",
    "vid_writer = cv.VideoWriter(output_file, cv.VideoWriter_fourcc('M','J','P','G'), int(fps), (width, height))\n",
    "\n",
    "while True:\n",
    "    # get frame from the video\n",
    "    hasFrame, frame = cap.read()\n",
    "    if(frame is not None):\n",
    "        frame = cv.rotate(frame, rotation_required)\n",
    "        #cv.imshow(\"preview\", frame)\n",
    "        vid_writer.write(frame.astype(np.uint8))\n",
    "        \n",
    "    key = cv.waitKey(1)\n",
    "    if key & 0xFF == ord('q'):\n",
    "        break"
   ]
  },
  {
   "cell_type": "markdown",
   "metadata": {},
   "source": [
    "Split Video into Frames"
   ]
  },
  {
   "cell_type": "code",
   "execution_count": null,
   "metadata": {},
   "outputs": [],
   "source": []
  }
 ],
 "metadata": {
  "kernelspec": {
   "display_name": "tf1",
   "language": "python",
   "name": "tf1"
  },
  "language_info": {
   "codemirror_mode": {
    "name": "ipython",
    "version": 3
   },
   "file_extension": ".py",
   "mimetype": "text/x-python",
   "name": "python",
   "nbconvert_exporter": "python",
   "pygments_lexer": "ipython3",
   "version": "3.6.1"
  }
 },
 "nbformat": 4,
 "nbformat_minor": 4
}
